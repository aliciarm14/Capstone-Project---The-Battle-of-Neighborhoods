{
 "cells": [
  {
   "cell_type": "markdown",
   "metadata": {},
   "source": [
    "CLUSTERING THE NEIGHBOURHOOD OF LONDON AND PARIS"
   ]
  },
  {
   "cell_type": "markdown",
   "metadata": {},
   "source": [
    "INTRODUCTION AND DATA DESCRIPTION"
   ]
  },
  {
   "cell_type": "markdown",
   "metadata": {},
   "source": [
    "In this notebook, we are grouping the neighbourhoods of London and Paris respectively and draw insights to what they look like now. This will help people choosing where to live in London or Paris or if they want to relocate neighbourhood within the city.\n",
    "We are going to start in each city with postal codes. The data has been downloaded from the following urls: https://en.wikipedia.org/wiki/List_of_areas_of_London and https://www.data.gouv.fr/fr/datasets/r/e88c6fda-1d09-42a0-a069-606d3259114e, of London and Paris, respectively.\n",
    "For each neighbourhood, we have chosen the radius to be 500 meters. The information obtained per venue is as follows:\n",
    "1. Neighbourhood : Name of the Neighbourhood\n",
    "2. Neighbourhood Latitude : Latitude of the Neighbourhood\n",
    "3. Neighbourhood Longitude : Longitude of the Neighbourhood\n",
    "4. Venue : Name of the Venue\n",
    "5. Venue Latitude : Latitude of Venue\n",
    "6. Venue Longitude : Longitude of Venue\n",
    "7. Venue Category : Category of Venue\n"
   ]
  },
  {
   "cell_type": "markdown",
   "metadata": {},
   "source": [
    "DATA COLLECTION "
   ]
  },
  {
   "cell_type": "code",
   "execution_count": 4,
   "metadata": {},
   "outputs": [],
   "source": [
    "import pandas as pd\n",
    "import requests\n",
    "import numpy as np\n",
    "import matplotlib.cm as cm\n",
    "import matplotlib.colors as colors\n",
    "from sklearn.cluster import KMeans"
   ]
  },
  {
   "cell_type": "markdown",
   "metadata": {},
   "source": [
    "COLLECTION LONDON DATA"
   ]
  },
  {
   "cell_type": "code",
   "execution_count": 15,
   "metadata": {},
   "outputs": [
    {
     "data": {
      "text/html": [
       "<div>\n",
       "<style scoped>\n",
       "    .dataframe tbody tr th:only-of-type {\n",
       "        vertical-align: middle;\n",
       "    }\n",
       "\n",
       "    .dataframe tbody tr th {\n",
       "        vertical-align: top;\n",
       "    }\n",
       "\n",
       "    .dataframe thead th {\n",
       "        text-align: right;\n",
       "    }\n",
       "</style>\n",
       "<table border=\"1\" class=\"dataframe\">\n",
       "  <thead>\n",
       "    <tr style=\"text-align: right;\">\n",
       "      <th></th>\n",
       "      <th>Location</th>\n",
       "      <th>London borough</th>\n",
       "      <th>Post town</th>\n",
       "      <th>Postcode district</th>\n",
       "      <th>Dial code</th>\n",
       "      <th>OS grid ref</th>\n",
       "    </tr>\n",
       "  </thead>\n",
       "  <tbody>\n",
       "    <tr>\n",
       "      <th>0</th>\n",
       "      <td>Abbey Wood</td>\n",
       "      <td>Bexley, Greenwich [7]</td>\n",
       "      <td>LONDON</td>\n",
       "      <td>SE2</td>\n",
       "      <td>020</td>\n",
       "      <td>TQ465785</td>\n",
       "    </tr>\n",
       "    <tr>\n",
       "      <th>1</th>\n",
       "      <td>Acton</td>\n",
       "      <td>Ealing, Hammersmith and Fulham[8]</td>\n",
       "      <td>LONDON</td>\n",
       "      <td>W3, W4</td>\n",
       "      <td>020</td>\n",
       "      <td>TQ205805</td>\n",
       "    </tr>\n",
       "    <tr>\n",
       "      <th>2</th>\n",
       "      <td>Addington</td>\n",
       "      <td>Croydon[8]</td>\n",
       "      <td>CROYDON</td>\n",
       "      <td>CR0</td>\n",
       "      <td>020</td>\n",
       "      <td>TQ375645</td>\n",
       "    </tr>\n",
       "    <tr>\n",
       "      <th>3</th>\n",
       "      <td>Addiscombe</td>\n",
       "      <td>Croydon[8]</td>\n",
       "      <td>CROYDON</td>\n",
       "      <td>CR0</td>\n",
       "      <td>020</td>\n",
       "      <td>TQ345665</td>\n",
       "    </tr>\n",
       "    <tr>\n",
       "      <th>4</th>\n",
       "      <td>Albany Park</td>\n",
       "      <td>Bexley</td>\n",
       "      <td>BEXLEY, SIDCUP</td>\n",
       "      <td>DA5, DA14</td>\n",
       "      <td>020</td>\n",
       "      <td>TQ478728</td>\n",
       "    </tr>\n",
       "    <tr>\n",
       "      <th>...</th>\n",
       "      <td>...</td>\n",
       "      <td>...</td>\n",
       "      <td>...</td>\n",
       "      <td>...</td>\n",
       "      <td>...</td>\n",
       "      <td>...</td>\n",
       "    </tr>\n",
       "    <tr>\n",
       "      <th>526</th>\n",
       "      <td>Woolwich</td>\n",
       "      <td>Greenwich</td>\n",
       "      <td>LONDON</td>\n",
       "      <td>SE18</td>\n",
       "      <td>020</td>\n",
       "      <td>TQ435795</td>\n",
       "    </tr>\n",
       "    <tr>\n",
       "      <th>527</th>\n",
       "      <td>Worcester Park</td>\n",
       "      <td>Sutton, Kingston upon Thames</td>\n",
       "      <td>WORCESTER PARK</td>\n",
       "      <td>KT4</td>\n",
       "      <td>020</td>\n",
       "      <td>TQ225655</td>\n",
       "    </tr>\n",
       "    <tr>\n",
       "      <th>528</th>\n",
       "      <td>Wormwood Scrubs</td>\n",
       "      <td>Hammersmith and Fulham</td>\n",
       "      <td>LONDON</td>\n",
       "      <td>W12</td>\n",
       "      <td>020</td>\n",
       "      <td>TQ225815</td>\n",
       "    </tr>\n",
       "    <tr>\n",
       "      <th>529</th>\n",
       "      <td>Yeading</td>\n",
       "      <td>Hillingdon</td>\n",
       "      <td>HAYES</td>\n",
       "      <td>UB4</td>\n",
       "      <td>020</td>\n",
       "      <td>TQ115825</td>\n",
       "    </tr>\n",
       "    <tr>\n",
       "      <th>530</th>\n",
       "      <td>Yiewsley</td>\n",
       "      <td>Hillingdon</td>\n",
       "      <td>WEST DRAYTON</td>\n",
       "      <td>UB7</td>\n",
       "      <td>020</td>\n",
       "      <td>TQ063804</td>\n",
       "    </tr>\n",
       "  </tbody>\n",
       "</table>\n",
       "<p>531 rows × 6 columns</p>\n",
       "</div>"
      ],
      "text/plain": [
       "            Location                     London borough       Post town  \\\n",
       "0         Abbey Wood              Bexley, Greenwich [7]          LONDON   \n",
       "1              Acton  Ealing, Hammersmith and Fulham[8]          LONDON   \n",
       "2          Addington                         Croydon[8]         CROYDON   \n",
       "3         Addiscombe                         Croydon[8]         CROYDON   \n",
       "4        Albany Park                             Bexley  BEXLEY, SIDCUP   \n",
       "..               ...                                ...             ...   \n",
       "526         Woolwich                          Greenwich          LONDON   \n",
       "527   Worcester Park       Sutton, Kingston upon Thames  WORCESTER PARK   \n",
       "528  Wormwood Scrubs             Hammersmith and Fulham          LONDON   \n",
       "529          Yeading                         Hillingdon           HAYES   \n",
       "530         Yiewsley                         Hillingdon    WEST DRAYTON   \n",
       "\n",
       "    Postcode district Dial code OS grid ref  \n",
       "0                 SE2       020    TQ465785  \n",
       "1              W3, W4       020    TQ205805  \n",
       "2                 CR0       020    TQ375645  \n",
       "3                 CR0       020    TQ345665  \n",
       "4           DA5, DA14       020    TQ478728  \n",
       "..                ...       ...         ...  \n",
       "526              SE18       020    TQ435795  \n",
       "527               KT4       020    TQ225655  \n",
       "528               W12       020    TQ225815  \n",
       "529               UB4       020    TQ115825  \n",
       "530               UB7       020    TQ063804  \n",
       "\n",
       "[531 rows x 6 columns]"
      ]
     },
     "execution_count": 15,
     "metadata": {},
     "output_type": "execute_result"
    }
   ],
   "source": [
    "url_london = \"https://en.wikipedia.org/wiki/List_of_areas_of_London\"\n",
    "wiki_london_url = requests.get(url_london)\n",
    "wiki_london_data = pd.read_html(wiki_london_url.text)\n",
    "wiki_london_data = wiki_london_data[1]\n",
    "wiki_london_data"
   ]
  },
  {
   "cell_type": "markdown",
   "metadata": {},
   "source": [
    "COLLECTION PARIS DATA"
   ]
  },
  {
   "cell_type": "code",
   "execution_count": 10,
   "metadata": {},
   "outputs": [
    {
     "data": {
      "text/html": [
       "<div>\n",
       "<style scoped>\n",
       "    .dataframe tbody tr th:only-of-type {\n",
       "        vertical-align: middle;\n",
       "    }\n",
       "\n",
       "    .dataframe tbody tr th {\n",
       "        vertical-align: top;\n",
       "    }\n",
       "\n",
       "    .dataframe thead th {\n",
       "        text-align: right;\n",
       "    }\n",
       "</style>\n",
       "<table border=\"1\" class=\"dataframe\">\n",
       "  <thead>\n",
       "    <tr style=\"text-align: right;\">\n",
       "      <th></th>\n",
       "      <th>datasetid</th>\n",
       "      <th>recordid</th>\n",
       "      <th>fields</th>\n",
       "      <th>geometry</th>\n",
       "      <th>record_timestamp</th>\n",
       "    </tr>\n",
       "  </thead>\n",
       "  <tbody>\n",
       "    <tr>\n",
       "      <th>0</th>\n",
       "      <td>correspondances-code-insee-code-postal</td>\n",
       "      <td>2bf36b38314b6c39dfbcd09225f97fa532b1fc45</td>\n",
       "      <td>{'code_comm': '645', 'nom_dept': 'ESSONNE', 's...</td>\n",
       "      <td>{'type': 'Point', 'coordinates': [2.2517129721...</td>\n",
       "      <td>2016-09-21T00:29:06.175+02:00</td>\n",
       "    </tr>\n",
       "    <tr>\n",
       "      <th>1</th>\n",
       "      <td>correspondances-code-insee-code-postal</td>\n",
       "      <td>7ee82e74e059b443df18bb79fc5a19b1f05e5a88</td>\n",
       "      <td>{'code_comm': '133', 'nom_dept': 'SEINE-ET-MAR...</td>\n",
       "      <td>{'type': 'Point', 'coordinates': [3.0529405055...</td>\n",
       "      <td>2016-09-21T00:29:06.175+02:00</td>\n",
       "    </tr>\n",
       "    <tr>\n",
       "      <th>2</th>\n",
       "      <td>correspondances-code-insee-code-postal</td>\n",
       "      <td>e2cd3186f07286705ed482a10b6aebd9de633c81</td>\n",
       "      <td>{'code_comm': '378', 'nom_dept': 'ESSONNE', 's...</td>\n",
       "      <td>{'type': 'Point', 'coordinates': [2.1971816504...</td>\n",
       "      <td>2016-09-21T00:29:06.175+02:00</td>\n",
       "    </tr>\n",
       "    <tr>\n",
       "      <th>3</th>\n",
       "      <td>correspondances-code-insee-code-postal</td>\n",
       "      <td>868bf03527a1d0a9defe5cf4e6fa0a730d725699</td>\n",
       "      <td>{'code_comm': '243', 'nom_dept': 'SEINE-ET-MAR...</td>\n",
       "      <td>{'type': 'Point', 'coordinates': [2.7097808131...</td>\n",
       "      <td>2016-09-21T00:29:06.175+02:00</td>\n",
       "    </tr>\n",
       "    <tr>\n",
       "      <th>4</th>\n",
       "      <td>correspondances-code-insee-code-postal</td>\n",
       "      <td>21e809b1d4480333c8b6fe7addd8f3b06f343e2c</td>\n",
       "      <td>{'code_comm': '003', 'nom_dept': 'VAL-DE-MARNE...</td>\n",
       "      <td>{'type': 'Point', 'coordinates': [2.3335102498...</td>\n",
       "      <td>2016-09-21T00:29:06.175+02:00</td>\n",
       "    </tr>\n",
       "  </tbody>\n",
       "</table>\n",
       "</div>"
      ],
      "text/plain": [
       "                                datasetid  \\\n",
       "0  correspondances-code-insee-code-postal   \n",
       "1  correspondances-code-insee-code-postal   \n",
       "2  correspondances-code-insee-code-postal   \n",
       "3  correspondances-code-insee-code-postal   \n",
       "4  correspondances-code-insee-code-postal   \n",
       "\n",
       "                                   recordid  \\\n",
       "0  2bf36b38314b6c39dfbcd09225f97fa532b1fc45   \n",
       "1  7ee82e74e059b443df18bb79fc5a19b1f05e5a88   \n",
       "2  e2cd3186f07286705ed482a10b6aebd9de633c81   \n",
       "3  868bf03527a1d0a9defe5cf4e6fa0a730d725699   \n",
       "4  21e809b1d4480333c8b6fe7addd8f3b06f343e2c   \n",
       "\n",
       "                                              fields  \\\n",
       "0  {'code_comm': '645', 'nom_dept': 'ESSONNE', 's...   \n",
       "1  {'code_comm': '133', 'nom_dept': 'SEINE-ET-MAR...   \n",
       "2  {'code_comm': '378', 'nom_dept': 'ESSONNE', 's...   \n",
       "3  {'code_comm': '243', 'nom_dept': 'SEINE-ET-MAR...   \n",
       "4  {'code_comm': '003', 'nom_dept': 'VAL-DE-MARNE...   \n",
       "\n",
       "                                            geometry  \\\n",
       "0  {'type': 'Point', 'coordinates': [2.2517129721...   \n",
       "1  {'type': 'Point', 'coordinates': [3.0529405055...   \n",
       "2  {'type': 'Point', 'coordinates': [2.1971816504...   \n",
       "3  {'type': 'Point', 'coordinates': [2.7097808131...   \n",
       "4  {'type': 'Point', 'coordinates': [2.3335102498...   \n",
       "\n",
       "                record_timestamp  \n",
       "0  2016-09-21T00:29:06.175+02:00  \n",
       "1  2016-09-21T00:29:06.175+02:00  \n",
       "2  2016-09-21T00:29:06.175+02:00  \n",
       "3  2016-09-21T00:29:06.175+02:00  \n",
       "4  2016-09-21T00:29:06.175+02:00  "
      ]
     },
     "execution_count": 10,
     "metadata": {},
     "output_type": "execute_result"
    }
   ],
   "source": [
    "\n",
    "paris_raw = pd.read_json('correspondances-code-insee-code-postal.json')\n",
    "paris_raw.head()"
   ]
  },
  {
   "cell_type": "markdown",
   "metadata": {},
   "source": [
    "DATA PROCESSING"
   ]
  },
  {
   "cell_type": "code",
   "execution_count": 18,
   "metadata": {},
   "outputs": [
    {
     "data": {
      "text/html": [
       "<div>\n",
       "<style scoped>\n",
       "    .dataframe tbody tr th:only-of-type {\n",
       "        vertical-align: middle;\n",
       "    }\n",
       "\n",
       "    .dataframe tbody tr th {\n",
       "        vertical-align: top;\n",
       "    }\n",
       "\n",
       "    .dataframe thead th {\n",
       "        text-align: right;\n",
       "    }\n",
       "</style>\n",
       "<table border=\"1\" class=\"dataframe\">\n",
       "  <thead>\n",
       "    <tr style=\"text-align: right;\">\n",
       "      <th></th>\n",
       "      <th>code_arr</th>\n",
       "      <th>code_cant</th>\n",
       "      <th>code_comm</th>\n",
       "      <th>code_dept</th>\n",
       "      <th>code_reg</th>\n",
       "      <th>geo_point_2d</th>\n",
       "      <th>geo_shape</th>\n",
       "      <th>id_geofla</th>\n",
       "      <th>insee_com</th>\n",
       "      <th>nom_comm</th>\n",
       "      <th>nom_dept</th>\n",
       "      <th>nom_region</th>\n",
       "      <th>population</th>\n",
       "      <th>postal_code</th>\n",
       "      <th>statut</th>\n",
       "      <th>superficie</th>\n",
       "      <th>z_moyen</th>\n",
       "    </tr>\n",
       "  </thead>\n",
       "  <tbody>\n",
       "    <tr>\n",
       "      <th>0</th>\n",
       "      <td>3</td>\n",
       "      <td>03</td>\n",
       "      <td>645</td>\n",
       "      <td>91</td>\n",
       "      <td>11</td>\n",
       "      <td>[48.750443119964764, 2.251712972144151]</td>\n",
       "      <td>{'type': 'Polygon', 'coordinates': [[[2.238024...</td>\n",
       "      <td>16275</td>\n",
       "      <td>91645</td>\n",
       "      <td>VERRIERES-LE-BUISSON</td>\n",
       "      <td>ESSONNE</td>\n",
       "      <td>ILE-DE-FRANCE</td>\n",
       "      <td>15.5</td>\n",
       "      <td>91370</td>\n",
       "      <td>Commune simple</td>\n",
       "      <td>999.0</td>\n",
       "      <td>121.0</td>\n",
       "    </tr>\n",
       "    <tr>\n",
       "      <th>1</th>\n",
       "      <td>3</td>\n",
       "      <td>20</td>\n",
       "      <td>133</td>\n",
       "      <td>77</td>\n",
       "      <td>11</td>\n",
       "      <td>[48.41256065214989, 3.052940505560729]</td>\n",
       "      <td>{'type': 'Polygon', 'coordinates': [[[3.076046...</td>\n",
       "      <td>31428</td>\n",
       "      <td>77133</td>\n",
       "      <td>COURCELLES-EN-BASSEE</td>\n",
       "      <td>SEINE-ET-MARNE</td>\n",
       "      <td>ILE-DE-FRANCE</td>\n",
       "      <td>0.2</td>\n",
       "      <td>77126</td>\n",
       "      <td>Commune simple</td>\n",
       "      <td>1082.0</td>\n",
       "      <td>88.0</td>\n",
       "    </tr>\n",
       "    <tr>\n",
       "      <th>2</th>\n",
       "      <td>1</td>\n",
       "      <td>09</td>\n",
       "      <td>378</td>\n",
       "      <td>91</td>\n",
       "      <td>11</td>\n",
       "      <td>[48.52726809075556, 2.19718165044305]</td>\n",
       "      <td>{'type': 'Polygon', 'coordinates': [[[2.203466...</td>\n",
       "      <td>30975</td>\n",
       "      <td>91378</td>\n",
       "      <td>MAUCHAMPS</td>\n",
       "      <td>ESSONNE</td>\n",
       "      <td>ILE-DE-FRANCE</td>\n",
       "      <td>0.3</td>\n",
       "      <td>91730</td>\n",
       "      <td>Commune simple</td>\n",
       "      <td>313.0</td>\n",
       "      <td>150.0</td>\n",
       "    </tr>\n",
       "    <tr>\n",
       "      <th>3</th>\n",
       "      <td>5</td>\n",
       "      <td>14</td>\n",
       "      <td>243</td>\n",
       "      <td>77</td>\n",
       "      <td>11</td>\n",
       "      <td>[48.87307018579678, 2.7097808131278462]</td>\n",
       "      <td>{'type': 'Polygon', 'coordinates': [[[2.727542...</td>\n",
       "      <td>17000</td>\n",
       "      <td>77243</td>\n",
       "      <td>LAGNY-SUR-MARNE</td>\n",
       "      <td>SEINE-ET-MARNE</td>\n",
       "      <td>ILE-DE-FRANCE</td>\n",
       "      <td>20.2</td>\n",
       "      <td>77400</td>\n",
       "      <td>Chef-lieu canton</td>\n",
       "      <td>579.0</td>\n",
       "      <td>71.0</td>\n",
       "    </tr>\n",
       "    <tr>\n",
       "      <th>4</th>\n",
       "      <td>3</td>\n",
       "      <td>34</td>\n",
       "      <td>003</td>\n",
       "      <td>94</td>\n",
       "      <td>11</td>\n",
       "      <td>[48.80588035965699, 2.333510249842654]</td>\n",
       "      <td>{'type': 'Polygon', 'coordinates': [[[2.343851...</td>\n",
       "      <td>32123</td>\n",
       "      <td>94003</td>\n",
       "      <td>ARCUEIL</td>\n",
       "      <td>VAL-DE-MARNE</td>\n",
       "      <td>ILE-DE-FRANCE</td>\n",
       "      <td>19.5</td>\n",
       "      <td>94110</td>\n",
       "      <td>Chef-lieu canton</td>\n",
       "      <td>232.0</td>\n",
       "      <td>70.0</td>\n",
       "    </tr>\n",
       "  </tbody>\n",
       "</table>\n",
       "</div>"
      ],
      "text/plain": [
       "  code_arr code_cant code_comm code_dept code_reg  \\\n",
       "0        3        03       645        91       11   \n",
       "1        3        20       133        77       11   \n",
       "2        1        09       378        91       11   \n",
       "3        5        14       243        77       11   \n",
       "4        3        34       003        94       11   \n",
       "\n",
       "                              geo_point_2d  \\\n",
       "0  [48.750443119964764, 2.251712972144151]   \n",
       "1   [48.41256065214989, 3.052940505560729]   \n",
       "2    [48.52726809075556, 2.19718165044305]   \n",
       "3  [48.87307018579678, 2.7097808131278462]   \n",
       "4   [48.80588035965699, 2.333510249842654]   \n",
       "\n",
       "                                           geo_shape id_geofla insee_com  \\\n",
       "0  {'type': 'Polygon', 'coordinates': [[[2.238024...     16275     91645   \n",
       "1  {'type': 'Polygon', 'coordinates': [[[3.076046...     31428     77133   \n",
       "2  {'type': 'Polygon', 'coordinates': [[[2.203466...     30975     91378   \n",
       "3  {'type': 'Polygon', 'coordinates': [[[2.727542...     17000     77243   \n",
       "4  {'type': 'Polygon', 'coordinates': [[[2.343851...     32123     94003   \n",
       "\n",
       "               nom_comm        nom_dept     nom_region  population  \\\n",
       "0  VERRIERES-LE-BUISSON         ESSONNE  ILE-DE-FRANCE        15.5   \n",
       "1  COURCELLES-EN-BASSEE  SEINE-ET-MARNE  ILE-DE-FRANCE         0.2   \n",
       "2             MAUCHAMPS         ESSONNE  ILE-DE-FRANCE         0.3   \n",
       "3       LAGNY-SUR-MARNE  SEINE-ET-MARNE  ILE-DE-FRANCE        20.2   \n",
       "4               ARCUEIL    VAL-DE-MARNE  ILE-DE-FRANCE        19.5   \n",
       "\n",
       "  postal_code            statut  superficie  z_moyen  \n",
       "0       91370    Commune simple       999.0    121.0  \n",
       "1       77126    Commune simple      1082.0     88.0  \n",
       "2       91730    Commune simple       313.0    150.0  \n",
       "3       77400  Chef-lieu canton       579.0     71.0  \n",
       "4       94110  Chef-lieu canton       232.0     70.0  "
      ]
     },
     "execution_count": 18,
     "metadata": {},
     "output_type": "execute_result"
    }
   ],
   "source": [
    "paris_field_data = pd.DataFrame()\n",
    "for f in paris_raw.fields:\n",
    "    dict_new = f\n",
    "    paris_field_data = paris_field_data.append(dict_new, ignore_index=True)\n",
    "\n",
    "paris_field_data.head()\n"
   ]
  },
  {
   "cell_type": "markdown",
   "metadata": {},
   "source": [
    "FEATURE SELECTION"
   ]
  },
  {
   "cell_type": "markdown",
   "metadata": {},
   "source": [
    "we need only the borough, neighbourhood, postal codes and geolocations (latitude and longitude)."
   ]
  },
  {
   "cell_type": "code",
   "execution_count": 24,
   "metadata": {},
   "outputs": [],
   "source": [
    "df1 = wiki_london_data.drop( [ wiki_london_data.columns[0], wiki_london_data.columns[4], wiki_london_data.columns[5] ], axis=1)\n",
    "\n",
    "df_2 = paris_field_data[['postal_code','nom_comm','nom_dept','geo_point_2d']]"
   ]
  },
  {
   "cell_type": "code",
   "execution_count": 27,
   "metadata": {},
   "outputs": [
    {
     "data": {
      "text/html": [
       "<div>\n",
       "<style scoped>\n",
       "    .dataframe tbody tr th:only-of-type {\n",
       "        vertical-align: middle;\n",
       "    }\n",
       "\n",
       "    .dataframe tbody tr th {\n",
       "        vertical-align: top;\n",
       "    }\n",
       "\n",
       "    .dataframe thead th {\n",
       "        text-align: right;\n",
       "    }\n",
       "</style>\n",
       "<table border=\"1\" class=\"dataframe\">\n",
       "  <thead>\n",
       "    <tr style=\"text-align: right;\">\n",
       "      <th></th>\n",
       "      <th>London borough</th>\n",
       "      <th>Post_town</th>\n",
       "      <th>Postcode district</th>\n",
       "    </tr>\n",
       "  </thead>\n",
       "  <tbody>\n",
       "    <tr>\n",
       "      <th>0</th>\n",
       "      <td>Bexley, Greenwich [7]</td>\n",
       "      <td>LONDON</td>\n",
       "      <td>SE2</td>\n",
       "    </tr>\n",
       "    <tr>\n",
       "      <th>1</th>\n",
       "      <td>Ealing, Hammersmith and Fulham[8]</td>\n",
       "      <td>LONDON</td>\n",
       "      <td>W3, W4</td>\n",
       "    </tr>\n",
       "    <tr>\n",
       "      <th>2</th>\n",
       "      <td>Croydon[8]</td>\n",
       "      <td>CROYDON</td>\n",
       "      <td>CR0</td>\n",
       "    </tr>\n",
       "    <tr>\n",
       "      <th>3</th>\n",
       "      <td>Croydon[8]</td>\n",
       "      <td>CROYDON</td>\n",
       "      <td>CR0</td>\n",
       "    </tr>\n",
       "    <tr>\n",
       "      <th>4</th>\n",
       "      <td>Bexley</td>\n",
       "      <td>BEXLEY, SIDCUP</td>\n",
       "      <td>DA5, DA14</td>\n",
       "    </tr>\n",
       "    <tr>\n",
       "      <th>...</th>\n",
       "      <td>...</td>\n",
       "      <td>...</td>\n",
       "      <td>...</td>\n",
       "    </tr>\n",
       "    <tr>\n",
       "      <th>526</th>\n",
       "      <td>Greenwich</td>\n",
       "      <td>LONDON</td>\n",
       "      <td>SE18</td>\n",
       "    </tr>\n",
       "    <tr>\n",
       "      <th>527</th>\n",
       "      <td>Sutton, Kingston upon Thames</td>\n",
       "      <td>WORCESTER PARK</td>\n",
       "      <td>KT4</td>\n",
       "    </tr>\n",
       "    <tr>\n",
       "      <th>528</th>\n",
       "      <td>Hammersmith and Fulham</td>\n",
       "      <td>LONDON</td>\n",
       "      <td>W12</td>\n",
       "    </tr>\n",
       "    <tr>\n",
       "      <th>529</th>\n",
       "      <td>Hillingdon</td>\n",
       "      <td>HAYES</td>\n",
       "      <td>UB4</td>\n",
       "    </tr>\n",
       "    <tr>\n",
       "      <th>530</th>\n",
       "      <td>Hillingdon</td>\n",
       "      <td>WEST DRAYTON</td>\n",
       "      <td>UB7</td>\n",
       "    </tr>\n",
       "  </tbody>\n",
       "</table>\n",
       "<p>531 rows × 3 columns</p>\n",
       "</div>"
      ],
      "text/plain": [
       "                        London borough       Post_town Postcode district\n",
       "0                Bexley, Greenwich [7]          LONDON               SE2\n",
       "1    Ealing, Hammersmith and Fulham[8]          LONDON            W3, W4\n",
       "2                           Croydon[8]         CROYDON               CR0\n",
       "3                           Croydon[8]         CROYDON               CR0\n",
       "4                               Bexley  BEXLEY, SIDCUP         DA5, DA14\n",
       "..                                 ...             ...               ...\n",
       "526                          Greenwich          LONDON              SE18\n",
       "527       Sutton, Kingston upon Thames  WORCESTER PARK               KT4\n",
       "528             Hammersmith and Fulham          LONDON               W12\n",
       "529                         Hillingdon           HAYES               UB4\n",
       "530                         Hillingdon    WEST DRAYTON               UB7\n",
       "\n",
       "[531 rows x 3 columns]"
      ]
     },
     "execution_count": 27,
     "metadata": {},
     "output_type": "execute_result"
    }
   ],
   "source": [
    "df1"
   ]
  },
  {
   "cell_type": "markdown",
   "metadata": {},
   "source": [
    "FEATURE ENGINEERING"
   ]
  },
  {
   "cell_type": "code",
   "execution_count": 28,
   "metadata": {},
   "outputs": [],
   "source": [
    "df1 = df1[df1['Post_town'].str.contains('LONDON')]\n",
    "\n",
    "df_paris = df_2[df_2['nom_dept'].str.contains('PARIS')].reset_index(drop=True)"
   ]
  },
  {
   "cell_type": "code",
   "execution_count": 30,
   "metadata": {},
   "outputs": [
    {
     "data": {
      "text/plain": [
       "'C:\\\\Users\\\\Alicia Reinaldos\\\\anaconda33\\\\python.exe'"
      ]
     },
     "execution_count": 30,
     "metadata": {},
     "output_type": "execute_result"
    }
   ],
   "source": [
    "import sys\n",
    "\n",
    "sys.executable"
   ]
  },
  {
   "cell_type": "code",
   "execution_count": 33,
   "metadata": {},
   "outputs": [
    {
     "name": "stdout",
     "output_type": "stream",
     "text": [
      "Collecting arcgis\n",
      "  Downloading arcgis-1.8.4.tar.gz (2.7 MB)\n",
      "Requirement already satisfied: six in c:\\users\\alicia reinaldos\\anaconda33\\lib\\site-packages (from arcgis) (1.15.0)\n",
      "Requirement already satisfied: ipywidgets>=7 in c:\\users\\alicia reinaldos\\anaconda33\\lib\\site-packages (from arcgis) (7.5.1)\n",
      "Requirement already satisfied: widgetsnbextension>=3 in c:\\users\\alicia reinaldos\\anaconda33\\lib\\site-packages (from arcgis) (3.5.1)\n",
      "Requirement already satisfied: pandas>=1 in c:\\users\\alicia reinaldos\\anaconda33\\lib\\site-packages (from arcgis) (1.1.3)\n",
      "Requirement already satisfied: numpy>=1.16.2 in c:\\users\\alicia reinaldos\\anaconda33\\lib\\site-packages (from arcgis) (1.19.2)\n",
      "Requirement already satisfied: matplotlib in c:\\users\\alicia reinaldos\\anaconda33\\lib\\site-packages (from arcgis) (3.3.2)\n",
      "Requirement already satisfied: keyring>=19 in c:\\users\\alicia reinaldos\\anaconda33\\lib\\site-packages (from arcgis) (21.4.0)\n",
      "Processing c:\\users\\alicia reinaldos\\appdata\\local\\pip\\cache\\wheels\\4d\\11\\58\\7d0a04db6c902ef42b717da2981807529f4922485141ab404f\\lerc-0.1.0-py3-none-any.whl\n",
      "Requirement already satisfied: ujson>=3 in c:\\users\\alicia reinaldos\\anaconda33\\lib\\site-packages (from arcgis) (4.0.1)\n",
      "Requirement already satisfied: jupyterlab in c:\\users\\alicia reinaldos\\anaconda33\\lib\\site-packages (from arcgis) (2.2.6)\n",
      "Collecting python-certifi-win32\n",
      "  Using cached python_certifi_win32-1.6-py2.py3-none-any.whl (7.2 kB)\n",
      "Processing c:\\users\\alicia reinaldos\\appdata\\local\\pip\\cache\\wheels\\1f\\1b\\b5\\54affbefc8a7e2bdf1da000fc576b8a1c91338f1f327a04f4c\\pyshp-2.1.3-py3-none-any.whl\n",
      "Requirement already satisfied: requests in c:\\users\\alicia reinaldos\\anaconda33\\lib\\site-packages (from arcgis) (2.24.0)\n",
      "Collecting requests-oauthlib\n",
      "  Using cached requests_oauthlib-1.3.0-py2.py3-none-any.whl (23 kB)\n",
      "Collecting requests_toolbelt\n",
      "  Using cached requests_toolbelt-0.9.1-py2.py3-none-any.whl (54 kB)\n",
      "Collecting requests_ntlm\n",
      "  Using cached requests_ntlm-1.1.0-py2.py3-none-any.whl (5.7 kB)\n",
      "Requirement already satisfied: pywin32>=223 in c:\\users\\alicia reinaldos\\anaconda33\\lib\\site-packages (from arcgis) (227)\n",
      "Collecting requests-negotiate-sspi\n",
      "  Using cached requests_negotiate_sspi-0.5.2-py2.py3-none-any.whl (7.1 kB)\n",
      "Collecting requests-kerberos\n",
      "  Using cached requests_kerberos-0.12.0-py2.py3-none-any.whl (14 kB)\n",
      "Collecting winkerberos\n",
      "  Using cached winkerberos-0.7.0-cp38-cp38-win_amd64.whl (23 kB)\n",
      "Requirement already satisfied: ipython>=4.0.0; python_version >= \"3.3\" in c:\\users\\alicia reinaldos\\anaconda33\\lib\\site-packages (from ipywidgets>=7->arcgis) (7.19.0)\n",
      "Requirement already satisfied: traitlets>=4.3.1 in c:\\users\\alicia reinaldos\\anaconda33\\lib\\site-packages (from ipywidgets>=7->arcgis) (5.0.5)\n",
      "Requirement already satisfied: nbformat>=4.2.0 in c:\\users\\alicia reinaldos\\anaconda33\\lib\\site-packages (from ipywidgets>=7->arcgis) (5.0.8)\n",
      "Requirement already satisfied: ipykernel>=4.5.1 in c:\\users\\alicia reinaldos\\anaconda33\\lib\\site-packages (from ipywidgets>=7->arcgis) (5.3.4)\n",
      "Requirement already satisfied: notebook>=4.4.1 in c:\\users\\alicia reinaldos\\anaconda33\\lib\\site-packages (from widgetsnbextension>=3->arcgis) (6.1.4)\n",
      "Requirement already satisfied: python-dateutil>=2.7.3 in c:\\users\\alicia reinaldos\\anaconda33\\lib\\site-packages (from pandas>=1->arcgis) (2.8.1)\n",
      "Requirement already satisfied: pytz>=2017.2 in c:\\users\\alicia reinaldos\\anaconda33\\lib\\site-packages (from pandas>=1->arcgis) (2020.1)\n",
      "Requirement already satisfied: kiwisolver>=1.0.1 in c:\\users\\alicia reinaldos\\anaconda33\\lib\\site-packages (from matplotlib->arcgis) (1.3.0)\n",
      "Requirement already satisfied: pillow>=6.2.0 in c:\\users\\alicia reinaldos\\anaconda33\\lib\\site-packages (from matplotlib->arcgis) (8.0.1)\n",
      "Requirement already satisfied: certifi>=2020.06.20 in c:\\users\\alicia reinaldos\\anaconda33\\lib\\site-packages (from matplotlib->arcgis) (2020.6.20)\n",
      "Requirement already satisfied: cycler>=0.10 in c:\\users\\alicia reinaldos\\anaconda33\\lib\\site-packages (from matplotlib->arcgis) (0.10.0)\n",
      "Requirement already satisfied: pyparsing!=2.0.4,!=2.1.2,!=2.1.6,>=2.0.3 in c:\\users\\alicia reinaldos\\anaconda33\\lib\\site-packages (from matplotlib->arcgis) (2.4.7)\n",
      "Requirement already satisfied: pywin32-ctypes!=0.1.0,!=0.1.1; sys_platform == \"win32\" in c:\\users\\alicia reinaldos\\anaconda33\\lib\\site-packages (from keyring>=19->arcgis) (0.2.0)\n",
      "Requirement already satisfied: tornado!=6.0.0,!=6.0.1,!=6.0.2 in c:\\users\\alicia reinaldos\\anaconda33\\lib\\site-packages (from jupyterlab->arcgis) (6.0.4)\n",
      "Requirement already satisfied: jupyterlab_server<2.0,>=1.1.5 in c:\\users\\alicia reinaldos\\anaconda33\\lib\\site-packages (from jupyterlab->arcgis) (1.2.0)\n",
      "Requirement already satisfied: jinja2>=2.10 in c:\\users\\alicia reinaldos\\anaconda33\\lib\\site-packages (from jupyterlab->arcgis) (2.11.2)\n",
      "Collecting setuptools-scm\n",
      "  Using cached setuptools_scm-6.0.1-py3-none-any.whl (27 kB)\n",
      "Requirement already satisfied: wrapt>=1.10.4 in c:\\users\\alicia reinaldos\\anaconda33\\lib\\site-packages (from python-certifi-win32->arcgis) (1.11.2)\n",
      "Requirement already satisfied: idna<3,>=2.5 in c:\\users\\alicia reinaldos\\anaconda33\\lib\\site-packages (from requests->arcgis) (2.10)\n",
      "Requirement already satisfied: urllib3!=1.25.0,!=1.25.1,<1.26,>=1.21.1 in c:\\users\\alicia reinaldos\\anaconda33\\lib\\site-packages (from requests->arcgis) (1.25.11)\n",
      "Requirement already satisfied: chardet<4,>=3.0.2 in c:\\users\\alicia reinaldos\\anaconda33\\lib\\site-packages (from requests->arcgis) (3.0.4)\n",
      "Collecting oauthlib>=3.0.0\n",
      "  Using cached oauthlib-3.1.0-py2.py3-none-any.whl (147 kB)\n",
      "Collecting ntlm-auth>=1.0.2\n",
      "  Using cached ntlm_auth-1.5.0-py2.py3-none-any.whl (29 kB)\n",
      "Requirement already satisfied: cryptography>=1.3 in c:\\users\\alicia reinaldos\\anaconda33\\lib\\site-packages (from requests_ntlm->arcgis) (3.1.1)\n",
      "Collecting pypiwin32>=223\n",
      "  Using cached pypiwin32-223-py3-none-any.whl (1.7 kB)\n",
      "Requirement already satisfied: pickleshare in c:\\users\\alicia reinaldos\\anaconda33\\lib\\site-packages (from ipython>=4.0.0; python_version >= \"3.3\"->ipywidgets>=7->arcgis) (0.7.5)\n",
      "Requirement already satisfied: backcall in c:\\users\\alicia reinaldos\\anaconda33\\lib\\site-packages (from ipython>=4.0.0; python_version >= \"3.3\"->ipywidgets>=7->arcgis) (0.2.0)\n",
      "Requirement already satisfied: colorama; sys_platform == \"win32\" in c:\\users\\alicia reinaldos\\anaconda33\\lib\\site-packages (from ipython>=4.0.0; python_version >= \"3.3\"->ipywidgets>=7->arcgis) (0.4.4)\n",
      "Requirement already satisfied: decorator in c:\\users\\alicia reinaldos\\anaconda33\\lib\\site-packages (from ipython>=4.0.0; python_version >= \"3.3\"->ipywidgets>=7->arcgis) (4.4.2)\n",
      "Requirement already satisfied: pygments in c:\\users\\alicia reinaldos\\anaconda33\\lib\\site-packages (from ipython>=4.0.0; python_version >= \"3.3\"->ipywidgets>=7->arcgis) (2.7.2)\n",
      "Requirement already satisfied: jedi>=0.10 in c:\\users\\alicia reinaldos\\anaconda33\\lib\\site-packages (from ipython>=4.0.0; python_version >= \"3.3\"->ipywidgets>=7->arcgis) (0.17.1)\n",
      "Requirement already satisfied: setuptools>=18.5 in c:\\users\\alicia reinaldos\\anaconda33\\lib\\site-packages (from ipython>=4.0.0; python_version >= \"3.3\"->ipywidgets>=7->arcgis) (50.3.1.post20201107)\n",
      "Requirement already satisfied: prompt-toolkit!=3.0.0,!=3.0.1,<3.1.0,>=2.0.0 in c:\\users\\alicia reinaldos\\anaconda33\\lib\\site-packages (from ipython>=4.0.0; python_version >= \"3.3\"->ipywidgets>=7->arcgis) (3.0.8)\n",
      "Requirement already satisfied: ipython-genutils in c:\\users\\alicia reinaldos\\anaconda33\\lib\\site-packages (from traitlets>=4.3.1->ipywidgets>=7->arcgis) (0.2.0)\n",
      "Requirement already satisfied: jsonschema!=2.5.0,>=2.4 in c:\\users\\alicia reinaldos\\anaconda33\\lib\\site-packages (from nbformat>=4.2.0->ipywidgets>=7->arcgis) (3.2.0)\n",
      "Requirement already satisfied: jupyter-core in c:\\users\\alicia reinaldos\\anaconda33\\lib\\site-packages (from nbformat>=4.2.0->ipywidgets>=7->arcgis) (4.6.3)\n",
      "Requirement already satisfied: jupyter-client in c:\\users\\alicia reinaldos\\anaconda33\\lib\\site-packages (from ipykernel>=4.5.1->ipywidgets>=7->arcgis) (6.1.7)\n",
      "Requirement already satisfied: nbconvert in c:\\users\\alicia reinaldos\\anaconda33\\lib\\site-packages (from notebook>=4.4.1->widgetsnbextension>=3->arcgis) (6.0.7)\n",
      "Requirement already satisfied: terminado>=0.8.3 in c:\\users\\alicia reinaldos\\anaconda33\\lib\\site-packages (from notebook>=4.4.1->widgetsnbextension>=3->arcgis) (0.9.1)\n",
      "Requirement already satisfied: Send2Trash in c:\\users\\alicia reinaldos\\anaconda33\\lib\\site-packages (from notebook>=4.4.1->widgetsnbextension>=3->arcgis) (1.5.0)\n",
      "Requirement already satisfied: prometheus-client in c:\\users\\alicia reinaldos\\anaconda33\\lib\\site-packages (from notebook>=4.4.1->widgetsnbextension>=3->arcgis) (0.8.0)\n",
      "Requirement already satisfied: argon2-cffi in c:\\users\\alicia reinaldos\\anaconda33\\lib\\site-packages (from notebook>=4.4.1->widgetsnbextension>=3->arcgis) (20.1.0)\n",
      "Requirement already satisfied: pyzmq>=17 in c:\\users\\alicia reinaldos\\anaconda33\\lib\\site-packages (from notebook>=4.4.1->widgetsnbextension>=3->arcgis) (19.0.2)\n",
      "Requirement already satisfied: json5 in c:\\users\\alicia reinaldos\\anaconda33\\lib\\site-packages (from jupyterlab_server<2.0,>=1.1.5->jupyterlab->arcgis) (0.9.5)\n",
      "Requirement already satisfied: MarkupSafe>=0.23 in c:\\users\\alicia reinaldos\\anaconda33\\lib\\site-packages (from jinja2>=2.10->jupyterlab->arcgis) (1.1.1)\n",
      "Requirement already satisfied: cffi!=1.11.3,>=1.8 in c:\\users\\alicia reinaldos\\anaconda33\\lib\\site-packages (from cryptography>=1.3->requests_ntlm->arcgis) (1.14.3)\n",
      "Requirement already satisfied: parso<0.8.0,>=0.7.0 in c:\\users\\alicia reinaldos\\anaconda33\\lib\\site-packages (from jedi>=0.10->ipython>=4.0.0; python_version >= \"3.3\"->ipywidgets>=7->arcgis) (0.7.0)\n",
      "Requirement already satisfied: wcwidth in c:\\users\\alicia reinaldos\\anaconda33\\lib\\site-packages (from prompt-toolkit!=3.0.0,!=3.0.1,<3.1.0,>=2.0.0->ipython>=4.0.0; python_version >= \"3.3\"->ipywidgets>=7->arcgis) (0.2.5)\n",
      "Requirement already satisfied: pyrsistent>=0.14.0 in c:\\users\\alicia reinaldos\\anaconda33\\lib\\site-packages (from jsonschema!=2.5.0,>=2.4->nbformat>=4.2.0->ipywidgets>=7->arcgis) (0.17.3)\n",
      "Requirement already satisfied: attrs>=17.4.0 in c:\\users\\alicia reinaldos\\anaconda33\\lib\\site-packages (from jsonschema!=2.5.0,>=2.4->nbformat>=4.2.0->ipywidgets>=7->arcgis) (20.3.0)\n",
      "Requirement already satisfied: nbclient<0.6.0,>=0.5.0 in c:\\users\\alicia reinaldos\\anaconda33\\lib\\site-packages (from nbconvert->notebook>=4.4.1->widgetsnbextension>=3->arcgis) (0.5.1)\n",
      "Requirement already satisfied: bleach in c:\\users\\alicia reinaldos\\anaconda33\\lib\\site-packages (from nbconvert->notebook>=4.4.1->widgetsnbextension>=3->arcgis) (3.2.1)\n",
      "Requirement already satisfied: mistune<2,>=0.8.1 in c:\\users\\alicia reinaldos\\anaconda33\\lib\\site-packages (from nbconvert->notebook>=4.4.1->widgetsnbextension>=3->arcgis) (0.8.4)\n",
      "Requirement already satisfied: jupyterlab-pygments in c:\\users\\alicia reinaldos\\anaconda33\\lib\\site-packages (from nbconvert->notebook>=4.4.1->widgetsnbextension>=3->arcgis) (0.1.2)\n",
      "Requirement already satisfied: testpath in c:\\users\\alicia reinaldos\\anaconda33\\lib\\site-packages (from nbconvert->notebook>=4.4.1->widgetsnbextension>=3->arcgis) (0.4.4)\n",
      "Requirement already satisfied: entrypoints>=0.2.2 in c:\\users\\alicia reinaldos\\anaconda33\\lib\\site-packages (from nbconvert->notebook>=4.4.1->widgetsnbextension>=3->arcgis) (0.3)\n",
      "Requirement already satisfied: defusedxml in c:\\users\\alicia reinaldos\\anaconda33\\lib\\site-packages (from nbconvert->notebook>=4.4.1->widgetsnbextension>=3->arcgis) (0.6.0)\n",
      "Requirement already satisfied: pandocfilters>=1.4.1 in c:\\users\\alicia reinaldos\\anaconda33\\lib\\site-packages (from nbconvert->notebook>=4.4.1->widgetsnbextension>=3->arcgis) (1.4.3)\n",
      "Requirement already satisfied: pywinpty>=0.5 in c:\\users\\alicia reinaldos\\anaconda33\\lib\\site-packages (from terminado>=0.8.3->notebook>=4.4.1->widgetsnbextension>=3->arcgis) (0.5.7)\n",
      "Requirement already satisfied: pycparser in c:\\users\\alicia reinaldos\\anaconda33\\lib\\site-packages (from cffi!=1.11.3,>=1.8->cryptography>=1.3->requests_ntlm->arcgis) (2.20)\n",
      "Requirement already satisfied: async-generator in c:\\users\\alicia reinaldos\\anaconda33\\lib\\site-packages (from nbclient<0.6.0,>=0.5.0->nbconvert->notebook>=4.4.1->widgetsnbextension>=3->arcgis) (1.10)\n",
      "Requirement already satisfied: nest-asyncio in c:\\users\\alicia reinaldos\\anaconda33\\lib\\site-packages (from nbclient<0.6.0,>=0.5.0->nbconvert->notebook>=4.4.1->widgetsnbextension>=3->arcgis) (1.4.2)\n",
      "Requirement already satisfied: packaging in c:\\users\\alicia reinaldos\\anaconda33\\lib\\site-packages (from bleach->nbconvert->notebook>=4.4.1->widgetsnbextension>=3->arcgis) (20.4)\n",
      "Requirement already satisfied: webencodings in c:\\users\\alicia reinaldos\\anaconda33\\lib\\site-packages (from bleach->nbconvert->notebook>=4.4.1->widgetsnbextension>=3->arcgis) (0.5.1)\n",
      "Building wheels for collected packages: arcgis\n",
      "  Building wheel for arcgis (setup.py): started\n",
      "  Building wheel for arcgis (setup.py): finished with status 'done'\n",
      "  Created wheel for arcgis: filename=arcgis-1.8.4-py2.py3-none-any.whl size=3199054 sha256=076aee038d5b5a4be91d85e152bc3cc160403f7f86532a0d581e911fbed9c9ee\n",
      "  Stored in directory: c:\\users\\alicia reinaldos\\appdata\\local\\pip\\cache\\wheels\\c1\\64\\27\\226293f64479d379944ac6a24b106a98541b29b1adf99e6ac9\n",
      "Successfully built arcgis\n",
      "Installing collected packages: lerc, setuptools-scm, python-certifi-win32, pyshp, oauthlib, requests-oauthlib, requests-toolbelt, ntlm-auth, requests-ntlm, pypiwin32, requests-negotiate-sspi, winkerberos, requests-kerberos, arcgis\n",
      "Successfully installed arcgis-1.8.4 lerc-0.1.0 ntlm-auth-1.5.0 oauthlib-3.1.0 pypiwin32-223 pyshp-2.1.3 python-certifi-win32-1.6 requests-kerberos-0.12.0 requests-negotiate-sspi-0.5.2 requests-ntlm-1.1.0 requests-oauthlib-1.3.0 requests-toolbelt-0.9.1 setuptools-scm-6.0.1 winkerberos-0.7.0\n"
     ]
    }
   ],
   "source": [
    "!pip install arcgis"
   ]
  },
  {
   "cell_type": "code",
   "execution_count": 34,
   "metadata": {},
   "outputs": [],
   "source": [
    "from arcgis.geocoding import geocode\n",
    "from arcgis.gis import GIS\n",
    "gis = GIS()"
   ]
  },
  {
   "cell_type": "code",
   "execution_count": 35,
   "metadata": {},
   "outputs": [],
   "source": [
    "def get_x_y_uk(address1):\n",
    "   lat_coords = 0\n",
    "   lng_coords = 0\n",
    "   g = geocode(address='{}, London, England, GBR'.format(address1))[0]\n",
    "   lng_coords = g['location']['x']\n",
    "   lat_coords = g['location']['y']\n",
    "   return str(lat_coords) +\",\"+ str(lng_coords)"
   ]
  },
  {
   "cell_type": "code",
   "execution_count": 45,
   "metadata": {},
   "outputs": [],
   "source": [
    "geo_coordinates_uk=pd.DataFrame()"
   ]
  },
  {
   "cell_type": "code",
   "execution_count": 46,
   "metadata": {},
   "outputs": [],
   "source": [
    "coordinates_latlng_uk = geo_coordinates_uk.apply(lambda x: get_x_y_uk(x))"
   ]
  },
  {
   "cell_type": "code",
   "execution_count": 47,
   "metadata": {},
   "outputs": [],
   "source": [
    "lat_uk=pd.DataFrame()\n",
    "lng_uk=pd.DataFrame()"
   ]
  },
  {
   "cell_type": "code",
   "execution_count": null,
   "metadata": {},
   "outputs": [],
   "source": [
    "london_merged = pd.concat([df1,lat_uk.astype(float), lng_uk.astype(float)], axis=1) \n",
    "london_merged.columns= ['borough','town','post_code','latitude','longitude']\n",
    "london_merged"
   ]
  },
  {
   "cell_type": "markdown",
   "metadata": {},
   "source": [
    "Extracting the latitude and the longitude:"
   ]
  },
  {
   "cell_type": "code",
   "execution_count": null,
   "metadata": {},
   "outputs": [],
   "source": [
    "paris_lat = paris_latlng.apply(lambda x: x.split(',')[0])\n",
    "paris_lat = paris_lat.apply(lambda x: x.lstrip('['))\n",
    "\n",
    "paris_lng = paris_latlng.apply(lambda x: x.split(',')[1])\n",
    "paris_lng = paris_lng.apply(lambda x: x.rstrip(']'))\n",
    "\n",
    "paris_geo_lat  = pd.DataFrame(paris_lat.astype(float))\n",
    "paris_geo_lat.columns=['Latitude']\n",
    "\n",
    "paris_geo_lng = pd.DataFrame(paris_lng.astype(float))\n",
    "paris_geo_lng.columns=['Longitude']"
   ]
  },
  {
   "cell_type": "code",
   "execution_count": null,
   "metadata": {},
   "outputs": [],
   "source": [
    "paris_combined_data = pd.concat([df_paris.drop('geo_point_2d', axis=1), paris_geo_lat, paris_geo_lng], axis=1)\n",
    "paris_combined_data"
   ]
  },
  {
   "cell_type": "markdown",
   "metadata": {},
   "source": [
    "VISUALIZATION OF THE NEIGHBOURHOODS"
   ]
  },
  {
   "cell_type": "code",
   "execution_count": null,
   "metadata": {},
   "outputs": [],
   "source": []
  },
  {
   "cell_type": "markdown",
   "metadata": {},
   "source": [
    "TOP VENUES IN THE NEIGHBOURHOODS"
   ]
  },
  {
   "cell_type": "code",
   "execution_count": null,
   "metadata": {},
   "outputs": [],
   "source": [
    "def return_most_common_venues(row, num_top_venues):\n",
    "    row_categories = row.iloc[1:]\n",
    "    row_categories_sorted = row_categories.sort_values(ascending=False)\n",
    "\n",
    "    return row_categories_sorted.index.values[0:num_top_venues]"
   ]
  },
  {
   "cell_type": "code",
   "execution_count": null,
   "metadata": {},
   "outputs": [],
   "source": [
    "\n",
    "indicators = ['st', 'nd', 'rd']\n",
    "\n",
    "# create columns according to number of top venues\n",
    "columns = ['Neighbourhood']\n",
    "for ind in np.arange(num_top_venues):\n",
    "    try:\n",
    "        columns.append('{}{} Most Common Venue'.format(ind+1, indicators[ind]))\n",
    "    except:\n",
    "        columns.append('{}th Most Common Venue'.format(ind+1))"
   ]
  },
  {
   "cell_type": "markdown",
   "metadata": {},
   "source": [
    "Getting the top venue categories:"
   ]
  },
  {
   "cell_type": "code",
   "execution_count": null,
   "metadata": {},
   "outputs": [],
   "source": [
    "# create a new dataframe for London\n",
    "neighborhoods_venues_sorted_london = pd.DataFrame(columns=columns)\n",
    "neighborhoods_venues_sorted_london['Neighbourhood'] = London_grouped['Neighbourhood']\n",
    "\n",
    "for ind in np.arange(London_grouped.shape[0]):\n",
    "    neighborhoods_venues_sorted_london.iloc[ind, 1:] = return_most_common_venues(London_grouped.iloc[ind, :], num_top_venues)\n",
    "\n",
    "neighborhoods_venues_sorted_london.head()"
   ]
  },
  {
   "cell_type": "markdown",
   "metadata": {},
   "source": [
    "MODEL BUILDING - KMEANS"
   ]
  },
  {
   "cell_type": "code",
   "execution_count": null,
   "metadata": {},
   "outputs": [],
   "source": [
    "# set number of clusters\n",
    "k_num_clusters = 5\n",
    "\n",
    "London_grouped_clustering = London_grouped.drop('Neighbourhood', 1)\n",
    "\n",
    "# run k-means clustering\n",
    "kmeans_london = KMeans(n_clusters=k_num_clusters, random_state=0).fit(London_grouped_clustering)"
   ]
  },
  {
   "cell_type": "code",
   "execution_count": null,
   "metadata": {},
   "outputs": [],
   "source": [
    "neighborhoods_venues_sorted_london.insert(0, 'Cluster Labels', kmeans_london.labels_ +1)"
   ]
  },
  {
   "cell_type": "code",
   "execution_count": null,
   "metadata": {},
   "outputs": [],
   "source": [
    "london_data = london_merged\n",
    "\n",
    "london_data = london_data.join(neighborhoods_venues_sorted_london.set_index('Neighbourhood'), on='borough')\n",
    "\n",
    "london_data.head()"
   ]
  },
  {
   "cell_type": "markdown",
   "metadata": {},
   "source": [
    "Examining the clusters:"
   ]
  },
  {
   "cell_type": "code",
   "execution_count": null,
   "metadata": {},
   "outputs": [],
   "source": [
    "london_data_nonan.loc[london_data_nonan['Cluster Labels'] == 1, london_data_nonan.columns[[1] + list(range(5, london_data_nonan.shape[1]))]]\n"
   ]
  },
  {
   "cell_type": "code",
   "execution_count": null,
   "metadata": {},
   "outputs": [],
   "source": [
    "london_data_nonan.loc[london_data_nonan['Cluster Labels'] == 2, london_data_nonan.columns[[1] + list(range(5, london_data_nonan.shape[1]))]]"
   ]
  },
  {
   "cell_type": "code",
   "execution_count": null,
   "metadata": {},
   "outputs": [],
   "source": [
    "london_data_nonan.loc[london_data_nonan['Cluster Labels'] == 3, london_data_nonan.columns[[1] + list(range(5, london_data_nonan.shape[1]))]]"
   ]
  },
  {
   "cell_type": "code",
   "execution_count": null,
   "metadata": {},
   "outputs": [],
   "source": [
    "london_data_nonan.loc[london_data_nonan['Cluster Labels'] == 4, london_data_nonan.columns[[1] + list(range(5, london_data_nonan.shape[1]))]]"
   ]
  },
  {
   "cell_type": "code",
   "execution_count": null,
   "metadata": {},
   "outputs": [],
   "source": [
    "london_data_nonan.loc[london_data_nonan['Cluster Labels'] == 5, london_data_nonan.columns[[1] + list(range(5, london_data_nonan.shape[1]))]]"
   ]
  },
  {
   "cell_type": "code",
   "execution_count": null,
   "metadata": {},
   "outputs": [],
   "source": []
  },
  {
   "cell_type": "markdown",
   "metadata": {},
   "source": [
    "CONCLUSION"
   ]
  },
  {
   "cell_type": "markdown",
   "metadata": {},
   "source": [
    "London is a multicultural city, where the main public tranports are bus and train. On the other hand, Paris seems like the relaxing vacation spot with a mix of lakes, historic spots and a wide variety of cusines to try out."
   ]
  }
 ],
 "metadata": {
  "kernelspec": {
   "display_name": "Python 3",
   "language": "python",
   "name": "python3"
  },
  "language_info": {
   "codemirror_mode": {
    "name": "ipython",
    "version": 3
   },
   "file_extension": ".py",
   "mimetype": "text/x-python",
   "name": "python",
   "nbconvert_exporter": "python",
   "pygments_lexer": "ipython3",
   "version": "3.8.5"
  }
 },
 "nbformat": 4,
 "nbformat_minor": 4
}
